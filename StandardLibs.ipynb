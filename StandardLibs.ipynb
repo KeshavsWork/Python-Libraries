{
 "cells": [
  {
   "cell_type": "code",
   "execution_count": 10,
   "id": "50241686",
   "metadata": {},
   "outputs": [
    {
     "name": "stdout",
     "output_type": "stream",
     "text": [
      "array('i', [2, 4, 5])\n"
     ]
    }
   ],
   "source": [
    "import array\n",
    "arr=array.array('i',[2,4,5])\n",
    "print(arr)"
   ]
  },
  {
   "cell_type": "code",
   "execution_count": 11,
   "id": "475f8586",
   "metadata": {},
   "outputs": [
    {
     "name": "stdout",
     "output_type": "stream",
     "text": [
      "8.18535277187245\n"
     ]
    }
   ],
   "source": [
    "import math\n",
    "print(math.sqrt(67))"
   ]
  },
  {
   "cell_type": "code",
   "execution_count": 12,
   "id": "08392523",
   "metadata": {},
   "outputs": [
    {
     "name": "stdout",
     "output_type": "stream",
     "text": [
      "48\n",
      "keshav\n"
     ]
    }
   ],
   "source": [
    "#Random\n",
    "import random\n",
    "print(random.randint(1,100))\n",
    "print(random.choice(['keshav','anuj','kunal']))"
   ]
  },
  {
   "cell_type": "code",
   "execution_count": 13,
   "id": "c533c765",
   "metadata": {},
   "outputs": [],
   "source": [
    "# File and Directory Access\n",
    "\n",
    "import os\n",
    "os.getcwd() #get current directory\n",
    "os.mkdir('new_folder') #created new folder\n",
    "with open(\"file.txt\" ,'w') as f:\n",
    "    f.write(\"Hello, this is a new file created using os!\\n\")\n"
   ]
  },
  {
   "cell_type": "code",
   "execution_count": 14,
   "id": "6fe444ca",
   "metadata": {},
   "outputs": [
    {
     "data": {
      "text/plain": [
       "'destination.txt'"
      ]
     },
     "execution_count": 14,
     "metadata": {},
     "output_type": "execute_result"
    }
   ],
   "source": [
    "# High Level operations on files and collections of files\n",
    "import shutil\n",
    "shutil.copyfile('file.txt','destination.txt')"
   ]
  },
  {
   "cell_type": "code",
   "execution_count": 16,
   "id": "64a3e9ba",
   "metadata": {},
   "outputs": [
    {
     "name": "stdout",
     "output_type": "stream",
     "text": [
      "{\"name\": \"Keshav\", \"age\": 21}\n",
      "<class 'str'>\n",
      "{'name': 'Keshav', 'age': 21}\n",
      "<class 'dict'>\n"
     ]
    }
   ],
   "source": [
    "# Data Serialization\n",
    "import json\n",
    "data={'name':\"Keshav\",\"age\":21}\n",
    "json_str=json.dumps(data)\n",
    "print(json_str)\n",
    "print(type(json_str))\n",
    "parsed_data=json.loads(json_str)\n",
    "print(parsed_data)\n",
    "print(type(parsed_data))"
   ]
  },
  {
   "cell_type": "code",
   "execution_count": 17,
   "id": "3675170a",
   "metadata": {},
   "outputs": [],
   "source": [
    "import csv\n",
    "with open(\"Data.csv\",'w') as file:\n",
    "    writer= csv.writer(file)\n",
    "    writer.writerow(['name','age'])\n",
    "    writer.writerow(['Keshav',21])"
   ]
  },
  {
   "cell_type": "code",
   "execution_count": 18,
   "id": "f9b7d44e",
   "metadata": {},
   "outputs": [
    {
     "name": "stdout",
     "output_type": "stream",
     "text": [
      "['name', 'age']\n",
      "[]\n",
      "['Keshav', '21']\n",
      "[]\n"
     ]
    }
   ],
   "source": [
    "with open(\"Data.csv\",'r') as file:\n",
    "    reader=csv.reader(file)\n",
    "    for row in reader:\n",
    "        print(row)"
   ]
  },
  {
   "cell_type": "code",
   "execution_count": null,
   "id": "2ff013e1",
   "metadata": {},
   "outputs": [],
   "source": []
  }
 ],
 "metadata": {
  "kernelspec": {
   "display_name": "base",
   "language": "python",
   "name": "python3"
  },
  "language_info": {
   "codemirror_mode": {
    "name": "ipython",
    "version": 3
   },
   "file_extension": ".py",
   "mimetype": "text/x-python",
   "name": "python",
   "nbconvert_exporter": "python",
   "pygments_lexer": "ipython3",
   "version": "3.13.5"
  }
 },
 "nbformat": 4,
 "nbformat_minor": 5
}
